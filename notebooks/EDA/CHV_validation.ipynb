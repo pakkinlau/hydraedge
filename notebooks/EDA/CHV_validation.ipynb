{
 "cells": [
  {
   "cell_type": "code",
   "execution_count": 1,
   "id": "c1cac8d8",
   "metadata": {},
   "outputs": [
    {
     "name": "stdout",
     "output_type": "stream",
     "text": [
      "valid: True\n"
     ]
    }
   ],
   "source": [
    "from pathlib import Path\n",
    "from hydraedge.schema.validator import validate_payload\n",
    "\n",
    "# 1) Locate repo root by walking up until we see pyproject.toml\n",
    "def find_repo_root(start: Path = Path.cwd()) -> Path:\n",
    "    for p in [start, *start.parents]:\n",
    "        if (p / \"pyproject.toml\").exists():\n",
    "            return p\n",
    "    raise FileNotFoundError(\"Can’t locate repo root – pyproject.toml not found\")\n",
    "\n",
    "repo_root = find_repo_root()\n",
    "\n",
    "payload_path = (\n",
    "    repo_root\n",
    "    / \"data\"\n",
    "    / \"sample-record-data-graph\"\n",
    "    / \"example_payload_schema_2.4.json\"   # << check the exact filename here\n",
    ")\n",
    "\n",
    "ok, errs = validate_payload(payload_path)     # now loads just fine\n",
    "print(\"valid:\", ok)\n",
    "if not ok:\n",
    "    print(\"\\n\".join(errs))\n"
   ]
  },
  {
   "cell_type": "code",
   "execution_count": 2,
   "id": "e4b946b6",
   "metadata": {},
   "outputs": [
    {
     "name": "stdout",
     "output_type": "stream",
     "text": [
      "valid: False\n",
      "JSON-Schema: 'filler' is a required property\n"
     ]
    }
   ],
   "source": [
    "from pathlib import Path\n",
    "from hydraedge.schema.validator import validate_payload\n",
    "\n",
    "# 1) Locate repo root by walking up until we see pyproject.toml\n",
    "def find_repo_root(start: Path = Path.cwd()) -> Path:\n",
    "    for p in [start, *start.parents]:\n",
    "        if (p / \"pyproject.toml\").exists():\n",
    "            return p\n",
    "    raise FileNotFoundError(\"Can’t locate repo root – pyproject.toml not found\")\n",
    "\n",
    "repo_root = find_repo_root()\n",
    "\n",
    "payload_path = (\n",
    "    repo_root\n",
    "    / \"data\"\n",
    "    / \"sample-record-data-graph\"\n",
    "    / \"example_payload_schema_2.4(b).json\"   # << check the exact filename here\n",
    ")\n",
    "\n",
    "ok, errs = validate_payload(payload_path)     # now loads just fine\n",
    "print(\"valid:\", ok)\n",
    "if not ok:\n",
    "    print(\"\\n\".join(errs))\n"
   ]
  }
 ],
 "metadata": {
  "kernelspec": {
   "display_name": "Python 3",
   "language": "python",
   "name": "python3"
  },
  "language_info": {
   "codemirror_mode": {
    "name": "ipython",
    "version": 3
   },
   "file_extension": ".py",
   "mimetype": "text/x-python",
   "name": "python",
   "nbconvert_exporter": "python",
   "pygments_lexer": "ipython3",
   "version": "3.10.12"
  }
 },
 "nbformat": 4,
 "nbformat_minor": 5
}
