{
 "cells": [
  {
   "cell_type": "markdown",
   "id": "5a882147",
   "metadata": {},
   "source": [
    "Deleted all older viz scripts.\n",
    "\n",
    "To get them back, re-visit commit version: `e1704df`"
   ]
  },
  {
   "cell_type": "code",
   "execution_count": 22,
   "id": "c3701dfe",
   "metadata": {},
   "outputs": [
    {
     "name": "stdout",
     "output_type": "stream",
     "text": [
      "✅ graph saved → chv_force_batch5c.html\n"
     ]
    }
   ],
   "source": [
    "from pathlib import Path\n",
    "import importlib\n",
    "import nested_event_vis_pyvis_batch5c as vis   # renamed file\n",
    "importlib.reload(vis)\n",
    "\n",
    "json_file = Path(\"example_payload_batch5c.json\")   # the 2.3c payload\n",
    "G, hulls   = vis.ingest_json(json_file)\n",
    "net        = vis.build_pyvis(G, hulls, seed=7, hide_alias=False)\n",
    "net.write_html(\"chv_force_batch5c.html\", notebook=False)\n",
    "print(\"✅ graph saved → chv_force_batch5c.html\")\n"
   ]
  }
 ],
 "metadata": {
  "kernelspec": {
   "display_name": "Python 3",
   "language": "python",
   "name": "python3"
  },
  "language_info": {
   "codemirror_mode": {
    "name": "ipython",
    "version": 3
   },
   "file_extension": ".py",
   "mimetype": "text/x-python",
   "name": "python",
   "nbconvert_exporter": "python",
   "pygments_lexer": "ipython3",
   "version": "3.12.9"
  }
 },
 "nbformat": 4,
 "nbformat_minor": 5
}
