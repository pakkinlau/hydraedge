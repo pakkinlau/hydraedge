{
 "cells": [
  {
   "cell_type": "markdown",
   "id": "5a882147",
   "metadata": {},
   "source": [
    "Deleted all older viz scripts.\n",
    "\n",
    "To get them back, re-visit commit version: `e1704df`"
   ]
  },
  {
   "cell_type": "code",
   "execution_count": 3,
   "id": "c3701dfe",
   "metadata": {},
   "outputs": [
    {
     "name": "stdout",
     "output_type": "stream",
     "text": [
      "✅ graph saved → /workspace/data/sample-vis-html/chv_force_2.4.html\n"
     ]
    }
   ],
   "source": [
    "from pathlib import Path\n",
    "from hydraedge.viz.ep_0_nested_event_vis import build_vis_network, render_to_html\n",
    "\n",
    "# ── 1 · paths ──────────────────────────────────────────────────────────────\n",
    "repo_root = Path.cwd().parents[1]             # adjust if notebook lives deeper\n",
    "json_path = repo_root / \"data\" / \"sample-record-data-graph\" / \"example_payload_schema_2.4.json\"\n",
    "out_dir   = repo_root / \"data\" / \"sample-vis-html\"\n",
    "out_file  = out_dir / \"chv_force_2.4.html\"\n",
    "out_dir.mkdir(parents=True, exist_ok=True)\n",
    "\n",
    "# ── 2 · build → html ───────────────────────────────────────────────────────\n",
    "net  = build_vis_network(json_path, hide_alias=False, seed=7)\n",
    "html = render_to_html(net, out_file)          # returns the Path it wrote to\n",
    "\n",
    "print(f\"✅ graph saved → {html.resolve()}\")\n"
   ]
  }
 ],
 "metadata": {
  "kernelspec": {
   "display_name": "Python 3",
   "language": "python",
   "name": "python3"
  },
  "language_info": {
   "codemirror_mode": {
    "name": "ipython",
    "version": 3
   },
   "file_extension": ".py",
   "mimetype": "text/x-python",
   "name": "python",
   "nbconvert_exporter": "python",
   "pygments_lexer": "ipython3",
   "version": "3.10.12"
  }
 },
 "nbformat": 4,
 "nbformat_minor": 5
}
