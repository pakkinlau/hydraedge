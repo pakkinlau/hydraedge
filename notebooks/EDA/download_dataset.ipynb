{
 "cells": [
  {
   "cell_type": "code",
   "execution_count": 6,
   "id": "9e876e13",
   "metadata": {},
   "outputs": [
    {
     "name": "stderr",
     "output_type": "stream",
     "text": [
      "Downloading data: 100%|██████████| 392k/392k [00:00<00:00, 471kB/s] \n",
      "Generating validation split: 100%|██████████| 2384/2384 [00:00<00:00, 36666.94 examples/s]\n",
      "Downloading data: 100%|██████████| 1.71G/1.71G [02:16<00:00, 12.6MB/s] \n",
      "Generating wikipedia_pages split: 100%|██████████| 5416537/5416537 [01:15<00:00, 71417.16 examples/s]\n"
     ]
    },
    {
     "name": "stdout",
     "output_type": "stream",
     "text": [
      "DatasetDict({\n",
      "    validation: Dataset({\n",
      "        features: ['id', 'label', 'claim', 'evidence_annotation_id', 'evidence_id', 'evidence_wiki_url', 'evidence_sentence_id'],\n",
      "        num_rows: 2384\n",
      "    })\n",
      "})\n",
      "DatasetDict({\n",
      "    wikipedia_pages: Dataset({\n",
      "        features: ['id', 'text', 'lines'],\n",
      "        num_rows: 5416537\n",
      "    })\n",
      "})\n"
     ]
    }
   ],
   "source": [
    "from datasets import load_dataset\n",
    "\n",
    "# load the v2.0 claims splits\n",
    "ds_claims = load_dataset(\"fever\", \"v2.0\", trust_remote_code=True)\n",
    "# load the wiki‐page dump\n",
    "ds_wiki   = load_dataset(\"fever\", \"wiki_pages\", trust_remote_code=True)\n",
    "\n",
    "print(ds_claims)  # train/validation/test\n",
    "print(ds_wiki)    # the entire wiki"
   ]
  }
 ],
 "metadata": {
  "kernelspec": {
   "display_name": "venv",
   "language": "python",
   "name": "python3"
  },
  "language_info": {
   "codemirror_mode": {
    "name": "ipython",
    "version": 3
   },
   "file_extension": ".py",
   "mimetype": "text/x-python",
   "name": "python",
   "nbconvert_exporter": "python",
   "pygments_lexer": "ipython3",
   "version": "3.12.3"
  }
 },
 "nbformat": 4,
 "nbformat_minor": 5
}
