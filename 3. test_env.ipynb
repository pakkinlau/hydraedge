{
 "cells": [
  {
   "cell_type": "code",
   "execution_count": 1,
   "id": "863bbd6d",
   "metadata": {},
   "outputs": [
    {
     "name": "stdout",
     "output_type": "stream",
     "text": [
      "NumPy: 1.26.4\n",
      "FAISS GPUs: 2\n",
      "spaCy: 3.7.5\n",
      "Thinc: 8.2.5\n"
     ]
    }
   ],
   "source": [
    "import numpy as np, faiss, spacy, thinc\n",
    "print(\"NumPy:\", np.__version__)\n",
    "print(\"FAISS GPUs:\", faiss.get_num_gpus())\n",
    "print(\"spaCy:\", spacy.__version__)\n",
    "print(\"Thinc:\", thinc.__version__)"
   ]
  }
 ],
 "metadata": {
  "kernelspec": {
   "display_name": "Python 3",
   "language": "python",
   "name": "python3"
  },
  "language_info": {
   "codemirror_mode": {
    "name": "ipython",
    "version": 3
   },
   "file_extension": ".py",
   "mimetype": "text/x-python",
   "name": "python",
   "nbconvert_exporter": "python",
   "pygments_lexer": "ipython3",
   "version": "3.10.12"
  }
 },
 "nbformat": 4,
 "nbformat_minor": 5
}
